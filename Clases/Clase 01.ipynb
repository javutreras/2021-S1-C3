{
 "cells": [
  {
   "cell_type": "markdown",
   "metadata": {},
   "source": [
    "**Definiciones.** Sean $x=(x_1,x_2,\\dots,x_n)\\in\\mathbb{R}^n$, $y=(y_1,y_2,\\dots,y_n)\\in\\mathbb{R}^n$.\n",
    "- La *norma* de $x$ es $$\\|x\\|=\\sqrt{x\\cdot x}=\\sqrt{x_1^2+x_2^2+\\dots+x_n^2}$$\n",
    "- La *distancia* entre $x$ e $y$ es $$d(x,y)=\\|x-y\\|=\\sqrt{(x_1-y_1)^2+(x_2-y_2)^2+\\dots+(x_n-y_n)^2}$$\n",
    "\n",
    "---\n",
    "\n",
    "**Definiciones.** Sean $x\\in\\mathbb{R}^n$, $r> 0$.\n",
    "- La *bola abierta* de centro $x$ y radio $r$ es $$B(x,r)=B]x,r[=\\{y\\in\\mathbb{R}^n\\,:\\,d(x,y)<r\\}$$\n",
    "- La *bola cerrada* de centro $x$ y radio $r$ es $$B[x,r]=\\{y\\in\\mathbb{R}^n\\,:\\,d(x,y)\\le r\\}$$\n",
    "- Una *vecindad* de $x$ es una bola abierta de centro $x$ y algún radio.\n",
    "\n",
    "---\n",
    "\n",
    "**Definiciones.** Sea $C\\subseteq\\mathbb{R}^n$.\n",
    "- Un punto $x$ es un *punto interior* de $C$ si alguna vecindad de $x$ está completamente contenida en $C$.\n",
    "- Un punto $x$ es un *punto de frontera* (o *de borde*) de $C$ si toda vecindad de $x$ intersecta a $C$, sin estar completamente contenida.\n",
    "- Un punto $x$ es un *punto de adherencia* de $C$ si toda vecindad de $x$ intersecta a $C$.\n",
    "- Un punto $x$ es un *punto de acumulación* de $C$ si es un punto de adherencia de $C-\\{x\\}$.\n",
    "\n",
    "---\n",
    "\n",
    "**Definiciones.** Sea $C\\subseteq\\mathbb{R}^n$.\n",
    "- El *interior* de $C$, denotado por $\\mathring{C}$, es el conjunto de todos los puntos interiores de $C$.\n",
    "- La *frontera* (o *borde*) de $C$, denotada por $fr(C)$, es el conjunto de todos los puntos de frontera de $C$.\n",
    "- La *clausura* de $C$, denotada por $\\overline{C}$, es el conjunto de todos los puntos de adherencia de $C$.\n",
    "\n",
    "---\n",
    "\n",
    "**Proposición.** Sea $C\\subseteq\\mathbb{R}^n$.\n",
    "$$\\mathring{C}\\subseteq C\\subseteq\\overline{C}$$\n",
    "\n",
    "---\n",
    "\n",
    "**Definiciones.** Sea $C\\subseteq\\mathbb{R}^n$.\n",
    "- $C$ se dice *abierto* si $C=\\mathring{C}$, es decir, si todos sus puntos son interiores.\n",
    "- $C$ se dice *cerrado* si $C=\\overline{C}$, es decir, si contiene a todos sus puntos de frontera.\n",
    "- $C$ se dice *acotado* si está completamente contenido en alguna bola (abierta o cerrada).\n",
    "\n",
    "---\n",
    "\n",
    "**Propiedad/definición.** Un conjunto se dice *compacto* si y sólo si es cerrado y acotado.\n"
   ]
  }
 ],
 "metadata": {
  "kernelspec": {
   "display_name": "Python 3",
   "language": "python",
   "name": "python3"
  },
  "language_info": {
   "codemirror_mode": {
    "name": "ipython",
    "version": 3
   },
   "file_extension": ".py",
   "mimetype": "text/x-python",
   "name": "python",
   "nbconvert_exporter": "python",
   "pygments_lexer": "ipython3",
   "version": "3.8.2"
  }
 },
 "nbformat": 4,
 "nbformat_minor": 4
}
