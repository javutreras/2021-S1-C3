{
 "cells": [
  {
   "cell_type": "markdown",
   "metadata": {},
   "source": [
    "## Conjuntos simple-conexos y el teorema de Green\n",
    "\n",
    "**\"Definición\".** Un conjunto $D$ es *simple-conexo* si \"no tiene agujeros\", es decir, si toda curva cerrada en $D$ puede ser contraída de forma continua a un punto sin salirse de $D$ en el proceso.\n",
    "\n",
    "**Teorema.** Si $F$ es un campo vectorial de $\\mathbb{R}^2$ de clase $\\mathcal{C}^1$ con dominio simple-conexo, entonces $F$ es un campo conservativo si y sólo si $$\\frac{\\partial F_1}{\\partial y} = \\frac{\\partial F_2}{\\partial x}$$\n",
    "\n",
    "*Ejemplo.* Sea $F(x,y)=(2y^2+3,4xy-1)$, y sea $\\gamma$ una trayectoria del punto $(-1,0)$ al punto $(1,2)$. Determinar $$\\int_\\gamma F\\cdot\\textrm{d}s$$\n",
    "\n",
    "*Ejemplo.* Mismo problema, pero con una trayectoria $\\eta$ del punto $(1,2)$ al $(3,0)$\n",
    "\n",
    "---\n",
    "\n",
    "*Notaciones.* Como el vector infinitesimal en una curva $\\textrm{d}s$ es de la forma $(\\textrm{d}x, \\textrm{d}y)$ o $(\\textrm{d}x, \\textrm{d}y, \\textrm{d}z)$, una integral vectorial de línea se puede escribir de la forma siguiente:\n",
    "\n",
    "$$\\int_C (F_1,F_2)\\cdot\\textrm{d} s=\\int_C F_1\\,\\textrm{d}x+F_2\\,\\textrm{d}y$$\n",
    "\n",
    "$$\\int_C (x^2,yz,x-1)\\cdot \\textrm{d}s = \\int_C x^2\\,\\textrm{d}x+yz\\,\\textrm{d}y+(x-1)\\,\\textrm{d}z$$\n",
    "\n",
    "---\n",
    "\n",
    "*Definición.* Una curva es *simple cerrada* si\n",
    "- el punto inicial y el final son el mismo, y\n",
    "- salvo por el hecho de que vuelve al punto inicial, la curva no se intersecta a sí misma.\n",
    "\n",
    "**Teorema (de la curva de Jordan).** Toda curva simple cerrada en $\\mathbb{R}^2$ es el borde de una región simple-conexa.\n",
    "\n",
    "*Definición.* Si $R$ es una región simple-conexa y su borde es una curva simple cerrada, entonces &nbsp;$\\partial R$ es la curva simple cerrada del borde de $R$ recorrida en el sentido positivo.\n",
    "\n",
    "¿Cuál es el sentido positivo?\n",
    "\n",
    "---\n",
    "\n",
    "**Teorema (Green).** Si $R$ es una región simple-conexa de $\\mathbb{R}^2$ y $F$ es un campo vectorial de clase $\\mathcal{C^1}$ en $R$ y en $\\partial R$, entonces $$\\iint_R \\left(\\frac{\\partial F_2}{\\partial x}-\\frac{\\partial F_1}{\\partial y}\\right)\\,\\textrm{d}A = \\int_{\\partial R}F\\cdot\\textrm{d}s$$\n",
    "\n",
    "---\n",
    "\n",
    "*Ejemplo.* Si $\\gamma(t)=(\\cos t, \\operatorname{sen}t)$ para $0\\le t\\le 2\\pi$, determinar $$\\int_\\gamma (y^3,-x^3)\\cdot \\textrm{d}s$$\n",
    "\n",
    "*Ejemplo.* Si $C$ es la trayectoria de forma triangular descrita por $(0,0)\\to (1,0)\\to (1,2)\\to (0,0)$, determinar $$\\int_C (xy, x^2y^3)\\cdot \\textrm{d}s$$\n",
    "\n",
    "---\n",
    "\n",
    "#### Forma general del teorema\n",
    "\n",
    "**Teorema.** Si $R$ es una región de $\\mathbb{R}^2$ cuyo borde está formado por curvas simple cerradas $\\gamma_1, \\gamma_2,\\ldots ,\\gamma_n$ y $F$ es un campo vectorial de clase $\\mathcal{C}^1$ en $R$ y su borde, entonces $$\\iint_R \\left(\\frac{\\partial F_2}{\\partial x}-\\frac{\\partial F_1}{\\partial y}\\right)\\,\\textrm{d}A = \\sum_{i=1}^n \\int_{\\gamma_i}F\\cdot\\textrm{d}s$$\n"
   ]
  }
 ],
 "metadata": {
  "kernelspec": {
   "display_name": "Python 3",
   "language": "python",
   "name": "python3"
  },
  "language_info": {
   "codemirror_mode": {
    "name": "ipython",
    "version": 3
   },
   "file_extension": ".py",
   "mimetype": "text/x-python",
   "name": "python",
   "nbconvert_exporter": "python",
   "pygments_lexer": "ipython3",
   "version": "3.8.2"
  }
 },
 "nbformat": 4,
 "nbformat_minor": 4
}
