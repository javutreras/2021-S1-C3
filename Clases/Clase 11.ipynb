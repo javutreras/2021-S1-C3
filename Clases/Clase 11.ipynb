{
 "cells": [
  {
   "cell_type": "markdown",
   "metadata": {},
   "source": [
    "**Definiciones.**\n",
    "- Un punto $x_0$ es un punto de *máximo local* (o *relativo*) de un campo escalar $f$ si $f(x_0)$ es el mayor valor que alcanza $f$ en una vecindad de $x_0$.\n",
    "\n",
    "- Un punto $x_0$ es un punto de *mínimo local* (o *relativo*) de un campo escalar $f$ si $f(x_0)$ es el menor valor que alcanza $f$ en una vecindad de $x_0$.\n",
    "\n",
    "- Un punto es de *extremo local* (o *relativo*) si satisface alguna de las dos definiciones anteriores.\n",
    "\n",
    "**Definición.** Un punto $x_0$ es un *punto de silla* (*saddle point*) de un campo escalar $f$ si en algunas direcciones es un máximo local estricto y en otras es un mínimo local estricto.\n",
    "\n",
    "---\n",
    "\n",
    "**Criterio (de la matriz jacobiana).** Sea $x_0$ un punto en el interior del dominio de un campo escalar diferenciable $f$. Si $x_0$ es punto de extremo local, entonces $J_f(x_0) = 0$.\n",
    "\n",
    "---\n",
    "\n",
    "**Definición.** Sea $f$ un campo escalar, y sea $x_0$ un punto en su dominio. La *matriz hessiana* de $f$ en $x_0$ es $$H_f(x_0)=\\begin{bmatrix}\\displaystyle\\frac{\\partial ^2f}{\\partial x_i\\partial x_j}(x_0)\\end{bmatrix}$$\n",
    "\n",
    "*Observación.* Tal como con la matriz jacobiana $J$ se construye una función lineal $$L(\\vec v)=J\\vec v$$para aproximar una función diferenciable, con la matriz hessiana $H$ se construye una función cuadrática $$Q(\\vec v)=\\vec v^TH\\vec v$$ que corresponde a los términos de grado 2 del polinomio de Taylor de $f$.\n",
    "\n",
    "**Propiedad.**\n",
    "- Si los valores propios de $H$ son todos reales y positivos, entonces la función $$Q(\\vec v)=\\vec v^TH\\vec v$$ no toma valores negativos. Se dice entonces que es *definida-positiva*, y el vector $\\vec v = 0$ es un mínimo de $Q$.\n",
    "\n",
    "- Si los valores propios de $H$ son todos reales y negativos, entonces la función $$Q(\\vec v)=\\vec v^TH\\vec v$$ no toma valores positivos. Se dice entonces que es *definida-negativa*, y el vector $\\vec v = 0$ es un máximo de $Q$.\n",
    "\n",
    "- Si $H$ tiene valores propios positivos y negativos, entonces la función $$Q(\\vec v)=\\vec v^TH\\vec v$$ toma valores de ambos signos. El vector $\\vec v =0$ es un punto de silla de $Q$.\n",
    "\n",
    "---\n",
    "\n",
    "**Criterio (de la matriz hessiana).** Sea $f$ un campo escalar de clase $\\mathcal{C}^2$, y sea $x_0$ un punto crítico en el interior del dominio de $f$.\n",
    "\n",
    "- Si los determinantes de los menores principales de $H_f(x_0)$ son todos positivos, entonces $H_f(x_0)$ es definida positiva y $x_0$ es un punto de mínimo local de $f$.\n",
    "\n",
    "\n",
    "- Si los determinantes de los menores principales de $H_f(x_0)$ alternan signos **comenzando con negativo**, entonces $H_f(x_0)$ es definida negativa y $x_0$ es un punto de máximo local de $f$.\n",
    "\n",
    "- En otro caso, si el determinante de $H_f(x_0)$ es distinto de cero, $x_0$ es un punto de silla de $f$.\n",
    "\n",
    "---\n",
    "\n",
    "*Ejemplo.* Determinar los puntos críticos y su naturaleza para la función $$f(x,y)=x^2+x^2y+xy^2-x$$\n"
   ]
  }
 ],
 "metadata": {
  "kernelspec": {
   "display_name": "Python 3",
   "language": "python",
   "name": "python3"
  },
  "language_info": {
   "codemirror_mode": {
    "name": "ipython",
    "version": 3
   },
   "file_extension": ".py",
   "mimetype": "text/x-python",
   "name": "python",
   "nbconvert_exporter": "python",
   "pygments_lexer": "ipython3",
   "version": "3.8.2"
  }
 },
 "nbformat": 4,
 "nbformat_minor": 4
}
