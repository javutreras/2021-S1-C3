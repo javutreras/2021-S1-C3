{
 "cells": [
  {
   "cell_type": "markdown",
   "metadata": {},
   "source": [
    "## Integrales de línea\n",
    "\n",
    "Sea $\\gamma:[a,b]\\to\\mathbb{R}^n$ una parametrización de una curva $C$.\n",
    "\n",
    "- Si $f$ es un campo escalar en $C$, $$\\int_C f\\,\\textrm{d}s = \\int_a^b f(\\gamma(t))\\|\\gamma'(t)\\|\\,\\textrm{d}t$$\n",
    "\n",
    "- Si $f$ es un campo vectorial en $C$, $$\\int_C f\\cdot\\textrm{d}s = \\int_a^b f(\\gamma(t))\\cdot \\gamma'(t)\\,\\textrm{d}t$$\n",
    "\n",
    "---\n",
    "\n",
    "**Propiedades.**\n",
    "- Si $f$ es un campo escalar, $$\\int_{C_1\\frown C_2}f\\,\\textrm{d}s = \\int_{C_1}f\\,\\textrm{d}s + \\int_{C_2}f\\,\\textrm{d}s$$ $$\\int_{-C_1}f\\,\\textrm{d}s = \\int_{C_1}f\\,\\textrm{d}s$$\n",
    "\n",
    "- Si $f$ es un campo vectorial, $$\\int_{C_1\\frown C_2}f\\cdot\\textrm{d}s = \\int_{C_1}f\\cdot\\textrm{d}s + \\int_{C_2}f\\cdot\\textrm{d}s$$ $$\\int_{-C_1}f\\cdot\\textrm{d}s = - \\int_{C_1}f\\cdot\\textrm{d}s$$\n",
    "\n",
    "---\n",
    "\n",
    "*Observación.* Dada una curva $C$, la integral escalar $$\\int_C1\\,\\textrm{d}s$$ entrega la longitud de $C$.\n",
    "\n",
    "---\n",
    "\n",
    "*Ejemplo.* Calcular $$\\int_C xy^2\\,\\textrm{d}s$$ donde $C$ es la circunferencia de centro $(0,0)$ y radio $1$.\n",
    "\n",
    "---\n",
    "\n",
    "*Ejemplo.* Determinar la longitud de la hélice $C$ parametrizada por $$\\gamma(t)=\\left(\\cos(t),\\sin (t),\\frac{t}{3}\\right),\\quad -2\\pi\\le t\\le 2\\pi$$\n",
    "\n",
    "---\n",
    "\n",
    "*Ejemplo.* Sea $C$ la trayectoria siguiente:\n",
    "- el segmento del punto $(1,-2)$ al $(1,0)$;\n",
    "- seguido por el arco superior de circunferencia con centro $(0,0)$ del punto $(1,0)$ al $(-1,0)$;\n",
    "- seguido por el segmento del punto $(-1,0)$ al $(0,-1)$.\n",
    "\n",
    "Y sea $F$ es el campo vectorial dado por $F(x,y)=(-x,-y)$. Determinar $$\\int_CF\\cdot\\textrm{d}s$$\n",
    "\n",
    "---\n",
    "\n",
    "### Campos conservativos\n",
    "\n",
    "*Ejemplo.* Sea $F(x,y)=(0,k)$, con $k$ constante. Sea $\\gamma$ una curva paramétrica cuyo punto final es el mismo punto inicial. Calcular $$\\int_\\gamma F\\cdot\\textrm{d}s$$\n",
    "\n",
    "---\n",
    "\n",
    "**Definición.** Un campo vectorial se dice *conservativo* si su integral sobre toda trayectoria cerrada (esto es, con punto final igual al inicial) es cero.\n",
    "En caso contrario se dice *no conservativo*.\n",
    "\n",
    "*Ejemplo.* El campo $F(x,y)=(-y,x)$ es no conservativo. Podemos ver esto integrándolo sobre la circunferencia unitaria centrada en el origen, recorrida en sentido antihorario."
   ]
  }
 ],
 "metadata": {
  "kernelspec": {
   "display_name": "Python 3",
   "language": "python",
   "name": "python3"
  },
  "language_info": {
   "codemirror_mode": {
    "name": "ipython",
    "version": 3
   },
   "file_extension": ".py",
   "mimetype": "text/x-python",
   "name": "python",
   "nbconvert_exporter": "python",
   "pygments_lexer": "ipython3",
   "version": "3.8.2"
  }
 },
 "nbformat": 4,
 "nbformat_minor": 4
}
