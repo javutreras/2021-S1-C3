{
 "cells": [
  {
   "cell_type": "markdown",
   "metadata": {},
   "source": [
    "### Coordenadas polares\n",
    "\n",
    "El cambio de coordenadas polares a rectangulares $T(r,\\theta) = (r\\cos\\theta, r\\sin \\theta)$ cumple las condiciones del teorema de cambio de variables (con $r$ no negativo y $\\theta$ sin dar más de una vuelta). El determinante de su matriz jacobiana es $r$.\n",
    "\n",
    "---\n",
    "\n",
    "*Ejemplo.* Sea $R$ la región interior a $x^2+y^2=4$ que está por encima del eje $x$. Calcular $$\\iint_R x\\,\\textrm{d}A$$\n",
    "\n",
    "*Ejercicio.* Usar coordenadas polares para determinar el área encerrada dentro del círculo $x^2+y^2=R^2$.\n",
    "\n",
    "*Ejemplo.* Sea $R$ la región interior a $x^2+y^2=4$ que está a la derecha del eje $y$. Calcular $$\\iint_R x\\,\\textrm{d}A$$\n",
    "\n",
    "*Ejemplo.* Sea $R$ la región encerrada en el semicírculo superior de $(x-1)^2+(y-2)^2=4$. Calcular $$\\iint_R xy\\,\\textrm{d}A$$\n",
    "\n",
    "*Ejemplo.* Sea $R$ la región encerrada entre las gráficas de $x^2+y^2=1$, $x^2+y^2=4$. Calcular $$\\iint_R e^{-x^2-y^2}\\,\\textrm{d}A$$\n",
    "\n",
    "---\n",
    "\n",
    "### Coordenadas cilíndricas\n",
    "\n",
    "Como cada punto del plano puede ser descrito utilizando coordenadas polares, cada punto del espacio puede ser descrito describiendo sus primeras dos coordenadas en forma polar, sin cambiar la tercera coordenada.\n",
    "\n",
    "Esta transformación está dada por la función $$T(r,\\theta,z)=(r\\cos\\theta,r\\sin \\theta,z)$$\n",
    "\n",
    "El determinante jacobiano de esta transformación es $r$ *(ejercicio)*.\n",
    "\n",
    "---\n",
    "\n",
    "### Coordenadas esféricas\n",
    "\n",
    "Un punto en el espacio puede ser descrito en función de su distancia al origen $\\rho\\ge 0$, de su acimut *(azimuthal angle)* $0\\le\\theta\\le 2\\pi$ en el plano $xy$, y de su ángulo desde el cenit *(zenith angle)* $0\\le\\varphi\\le\\pi$ cayendo desde el eje $z$ positivo.\n",
    "\n",
    "Esta transformación está dada por la función $$T(\\rho,\\theta,\\varphi) = (\\rho\\cos\\theta\\sin \\varphi,\\rho\\sin \\theta\\sin \\varphi,\\rho\\cos\\varphi)$$\n",
    "\n",
    "El determinante jacobiano de esta transformación es $\\rho^2\\sin \\varphi$ *(ejercicio)*."
   ]
  }
 ],
 "metadata": {
  "kernelspec": {
   "display_name": "Python 3",
   "language": "python",
   "name": "python3"
  },
  "language_info": {
   "codemirror_mode": {
    "name": "ipython",
    "version": 3
   },
   "file_extension": ".py",
   "mimetype": "text/x-python",
   "name": "python",
   "nbconvert_exporter": "python",
   "pygments_lexer": "ipython3",
   "version": "3.8.2"
  }
 },
 "nbformat": 4,
 "nbformat_minor": 4
}
