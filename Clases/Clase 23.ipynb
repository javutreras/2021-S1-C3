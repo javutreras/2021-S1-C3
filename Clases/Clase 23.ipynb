{
 "cells": [
  {
   "cell_type": "markdown",
   "metadata": {},
   "source": [
    "*Observación.* El teorema de Green permite calcular áreas de regiones: $$\\iint_R 1\\,\\textrm{d}A = \\frac{1}{2}\\int_{\\partial R}(-y,x)\\cdot\\textrm{d}s$$\n",
    "\n",
    "*Ejemplo.* Determinar el área dentro de la circunferencia $x^2+y^2=1$ y bajo la parábola $y=(x-1)^2$.\n",
    "\n",
    "---\n",
    "\n",
    "## Superficies paramétricas\n",
    "\n",
    "*Definición.* Una superficie paramétrica es una función $$\\sigma: R\\subseteq\\mathbb{R}^2\\to\\mathbb{R}^3$$\n",
    "\n",
    "*Ejemplo.* $\\sigma(t,s)=(t^2+s,t-s^2,2t)$ con $0\\le t\\le 1$, $-2\\le s\\le 0$.\n",
    "\n",
    "    Surface(Expresión, PrimerParámetro, ValorInicial, ValorFinal, SegundoParámetro, ValorInicial, ValorFinal)\n",
    "\n",
    "*Ejemplo.* Parametrizar la superficie dada por $z=6-x^2-y^2$, $z\\ge 2$.\n",
    "\n",
    "*Ejemplo.* Parametrizar la superficie dada por $x^2+y^2+z^2=9$, $z\\ge 0$.\n",
    "\n",
    "---\n",
    "\n",
    "*Observación.* Si $\\sigma(t,s)$ parametriza una superficie, el vector $\\sigma_t\\times\\sigma_s$ es normal a la superficie en todo punto.\n",
    "\n",
    "## Integrales de superficie\n",
    "\n",
    "- Si $S$ es una superficie parametrizada por $\\sigma:D\\to\\mathbb{R}^3$ y $f$ es un campo escalar en $S$,\n",
    "$$\\iint_S f(x,y,z)\\,\\textrm{d}S = \\iint_D f(\\sigma(t,s))\\|\\sigma_t\\times\\sigma_s\\|\\,\\textrm{d}A$$\n",
    "\n",
    "- Si $S$ es una superficie parametrizada por $\\sigma:D\\to\\mathbb{R}^3$ y orientada según el vector normal $\\sigma_t\\times\\sigma_s$, y $F$ es un campo vectorial en $S$, $$\\iint_S F(x,y,z)\\cdot\\textrm{d}S = \\iint_D F(\\sigma(t,s))\\cdot (\\sigma_t\\times\\sigma_s)\\,\\textrm{d}A$$\n",
    "\n",
    "---\n",
    "\n",
    "*Ejemplo.* Calcular la integral de $f(x,y,z)=z$ sobre la  superficie dada por $x^2+y^2+z^2=9$, $z\\ge 0$.\n",
    "\n",
    "*Ejemplo.* Calcular la integral de $F(x,y,z)=(x,x,z)$ sobre la superficie dada por $z=6-x^2-y^2$, $z\\ge 2$ orientada hacia adentro del paraboloide.\n"
   ]
  }
 ],
 "metadata": {
  "kernelspec": {
   "display_name": "Python 3",
   "language": "python",
   "name": "python3"
  },
  "language_info": {
   "codemirror_mode": {
    "name": "ipython",
    "version": 3
   },
   "file_extension": ".py",
   "mimetype": "text/x-python",
   "name": "python",
   "nbconvert_exporter": "python",
   "pygments_lexer": "ipython3",
   "version": "3.8.2"
  }
 },
 "nbformat": 4,
 "nbformat_minor": 4
}
