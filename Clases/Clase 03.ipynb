{
 "cells": [
  {
   "cell_type": "markdown",
   "metadata": {},
   "source": [
    "**Definición.** Sean $f$ una función, $x_0$ un punto de acumulación del dominio de $f$, y $L$ un valor en el codominio de $f$. Se dice que $$\\lim_{x\\to x_0}f(x)=L$$ si $$\\forall\\,\\epsilon>0\\,\\,\\exists\\,\\delta>0\\,\\,\\,\\left(0<d(x,x_0)<\\delta\\Rightarrow d(f(x),L)<\\epsilon\\right)$$\n",
    "\n",
    "---\n",
    "\n",
    "**Definición.** Una función $f$ se dice *continua en un punto* $x_0$ de su dominio si $$f(x_0)=\\lim_{x\\to\\ x_0}f(x)$$\n",
    "\n",
    "Y se dice *continua* si es continua en todos los puntos de su dominio.\n",
    "\n",
    "---\n",
    "\n",
    "**Propiedad.** El álgebra de límites y de funciones continuas se preserva tal cual del caso de una variable. Es decir, los límites y la continuidad se comportan de manera estándar con las operaciones de suma, resta, producto, división (no por cero!) y composición.\n",
    "\n",
    "---\n",
    "\n",
    "**Definición.** Sea $\\displaystyle\\lim_{x\\to x_0}f(x)$ un problema de límites, y sea $D\\subseteq \\mathbb{R}^n$ el dominio de la función $f$. Una *trayectoria* para este problema es un subconjunto $T\\subseteq \\mathbb{R}^n$ tal que $x_0$ es un punto de acumulación de $D\\cap T$.\n",
    "\n",
    "*Observación.* Para efectos prácticos, las trayectorias útiles en dos variables son de una de las siguientes formas:\n",
    "- $y=g(x)$\n",
    "- $x=g(y)$\n",
    "- $g(x,y)=c$\n",
    "\n",
    "*Ejemplo.* Considerar el problema $$\\displaystyle\\lim_{(x,y)\\to (0,0)}\\frac{xy}{x^2+y^4}$$\n",
    "\n",
    "Son trayectorias válidas:\n",
    "- $T_1=\\left\\{(x,y)\\,:\\,x=0\\right\\}$\n",
    "- $T_2=\\left\\{(x,y)\\,:\\,y=0\\right\\}$\n",
    "- $T_3=\\left\\{(x,y)\\,:\\,y=x\\right\\}$\n",
    "- $T_4=\\left\\{(x,y)\\,:\\,x=y^2\\right\\}$\n",
    "\n",
    "---\n",
    "\n",
    "**Definición.** Un límite $\\displaystyle\\lim_{x\\to x_0}f(x)$ *a lo largo de una trayectoria* $T$ se calcula reduciendo el dominio de $f$ a $T\\cap\\operatorname{dom} f$.\n",
    "\n",
    "*Observación.* Seleccionando adecuadamente una trayectoria, el límite a lo largo de ella se puede reducir a un límite en una sola variable, y por consiguiente hacer calculable con los métodos ya conocidos.\n",
    "\n",
    "*Ejemplo.* En el ejemplo anterior, a lo largo de la trayectoria $T_1$ la función es constante igual a cero, y el límite a lo largo de $T_1$ es cero; por el mismo motivo, el límite a lo largo de $T_2$ es cero.\n",
    "\n",
    "A lo largo de $T_3$ queda el límite $$\\lim_{x\\to 0}\\frac{x\\cdot x}{x^2+x^4}=1$$\n",
    "\n",
    "A lo largo de $T_4$ queda el límite $$\\lim_{y\\to 0}\\frac{y^2\\cdot y}{(y^2)^2+y^4}$$\n",
    "que es divergente.\n",
    "\n",
    "---\n",
    "\n",
    "**Teorema (de las trayectorias).** Si un límite existe y toma un valor $L$, entonces a lo largo de cualquier trayectoria ese límite existe y toma el mismo valor $L$.\n",
    "\n",
    "**Corolario (criterio de las trayectorias).** Dado un problema de límites, si no existe a lo largo de alguna trayectoria, o si a lo largo de dos trayectorias distintas existe pero toma valores distintos, el límite no existe.\n",
    "\n",
    "*Ejemplo.* El límite de los ejemplos anteriores, $$\\displaystyle\\lim_{(x,y)\\to (0,0)}\\frac{xy}{x^2+y^4}$$\n",
    "no existe.\n",
    "\n",
    "---\n",
    "\n",
    "*Más ejemplos.*\n",
    "\n",
    "1. $\\displaystyle\\lim_{(x,y)\\to (0,0)}\\frac{x^2}{x^2+y^2}$\n",
    "\n",
    "3. $\\displaystyle\\lim_{(x,y)\\to (0,0)}\\frac{xy}{x-y}$\n"
   ]
  }
 ],
 "metadata": {
  "kernelspec": {
   "display_name": "Python 3",
   "language": "python",
   "name": "python3"
  },
  "language_info": {
   "codemirror_mode": {
    "name": "ipython",
    "version": 3
   },
   "file_extension": ".py",
   "mimetype": "text/x-python",
   "name": "python",
   "nbconvert_exporter": "python",
   "pygments_lexer": "ipython3",
   "version": "3.8.2"
  }
 },
 "nbformat": 4,
 "nbformat_minor": 4
}
