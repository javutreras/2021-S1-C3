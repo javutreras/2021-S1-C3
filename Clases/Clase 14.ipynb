{
 "cells": [
  {
   "cell_type": "markdown",
   "metadata": {},
   "source": [
    "## Integrales dobles\n",
    "\n",
    "*Notación.* Si $R$ es una región de $\\mathbb{R}^2$, la integral de una función $f$ sobre el dominio $R$ se puede escribir $$\\iint_R f\\,\\textrm{d}A$$ para reforzar por partida doble que se trabaja con una integral en dos dimensiones.\n",
    "\n",
    "---\n",
    "\n",
    "*Observación.* Si $I$ es un intervalo, entonces $\\int_I 1\\,\\textrm{d}x$ es la longitud de $I$.\n",
    "\n",
    "*Observación.* Si $R$ es una región de $\\mathbb{R}^2$, entonces $\\iint_R 1\\,\\textrm{d}A$ es el área de $R$.\n",
    "\n",
    "---\n",
    "\n",
    "**Teorema (informal).** Para que una función sea integrable sobre un dominio compacto en $\\mathbb{R}^2$ es necesario y suficiente que el conjunto de puntos de discontinuidad de la función no tenga área.\n",
    "\n",
    "---\n",
    "\n",
    "*Problema.* Encontrar una forma de describir la suma de todos los elementos de una matriz de $m\\times n$ usando sumatorias:\n",
    "$$\\begin{array}{cccc}\n",
    "a_{11} & a_{12} & a_{13} & a_{14} \\\\\n",
    "a_{21} & a_{22} & a_{23} & a_{24} \\\\\n",
    "a_{31} & a_{32} & a_{33} & a_{34} \n",
    "\\end{array}$$\n",
    "\n",
    "---\n",
    "\n",
    "*Ejemplo.* Sea $R$ el rectángulo $[-1,1]\\times [0,3\n",
    "]$. Calcular la integral de la función $f(x,y)=xy^2+x-1$ sobre ese dominio.\n",
    "\n",
    "---\n",
    "\n",
    "*Problema.* Sea $R$ la región encerrada entre las gráficas de $y=x^2$ e $y=x^3$. ¿Cómo integrar una función $f$ sobre este dominio?\n",
    "\n",
    "---\n",
    "\n",
    "En general, una región $R$ del plano se busca describir de una de las siguientes formas:\n",
    "- $$\\begin{cases}\n",
    "a\\le x\\le b \\\\\n",
    "g(x) \\le y \\le h(x) \\end{cases}$$\n",
    "para obtener $$\\iint_R f\\,\\textrm{d}A = \\int_a^b \\int_{g(x)}^{h(x)}f\\,\\textrm{d}y\\,\\textrm{d}x$$\n",
    "\n",
    "- $$\\begin{cases}\n",
    "a\\le y\\le b \\\\\n",
    "g(y) \\le x \\le h(y) \\end{cases}$$\n",
    "para obtener $$\\iint_R f\\,\\textrm{d}A = \\int_a^b \\int_{g(y)}^{h(y)}f\\,\\textrm{d}x\\,\\textrm{d}y$$\n",
    "\n",
    "---\n",
    "\n",
    "*Ejemplo.* Calcular la integral $\\iint_R (x+y)\\,\\textrm{d}A$ donde $R$ es la región encerrada entre las gráficas de $y=x^2$, $y=1$ e $y=3$.\n",
    "\n",
    "---\n",
    "\n",
    "**Teorema (Fubini).** \n",
    "Se puede escoger cualquier orden de integración siempre y cuando la integral no sea impropia."
   ]
  }
 ],
 "metadata": {
  "kernelspec": {
   "display_name": "Python 3",
   "language": "python",
   "name": "python3"
  },
  "language_info": {
   "codemirror_mode": {
    "name": "ipython",
    "version": 3
   },
   "file_extension": ".py",
   "mimetype": "text/x-python",
   "name": "python",
   "nbconvert_exporter": "python",
   "pygments_lexer": "ipython3",
   "version": "3.8.2"
  }
 },
 "nbformat": 4,
 "nbformat_minor": 4
}
