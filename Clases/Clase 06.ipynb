{
 "cells": [
  {
   "cell_type": "markdown",
   "metadata": {},
   "source": [
    "**Definiciones.**\n",
    "- Una función $f$ es de *clase* $\\mathcal{C}^0$ en un punto o conjunto si es continua en ese punto o conjunto.\n",
    "\n",
    "- Una función $f$ es de *clase* $\\mathcal{C}^1$ en un punto o conjunto si todas sus derivadas parciales son continuas en ese punto o conjunto.\n",
    "- Una función $f$ es de *clase* $\\mathcal{C}^2$ en un punto o conjunto si todas las derivadas parciales de sus derivadas parciales son continuas en ese punto o conjunto.\n",
    "- De forma análoga se definen las clases $\\mathcal{C}^3, \\mathcal{C}^4$, y así sucesivamente.\n",
    "- Una función es de clase $\\mathcal{C}^{\\infty}$ si es de todas las clases $\\mathcal{C}^n$, para todo $n$ natural.\n",
    "\n",
    "---\n",
    "\n",
    "**Teorema (Schwarz).** Si una función $f$ es de clase $\\mathcal{C}^2$, entonces para cualesquiera dos variables de su dominio $x_i,x_j$ se tiene $$\\frac{\\partial^2 f}{\\partial x_i\\partial x_j} = \\frac{\\partial^2 f}{\\partial x_j\\partial x_i}$$\n",
    "\n",
    "---\n",
    "\n",
    "**Definición.** Sean $f:A\\subseteq\\mathbb{R}^n\\to \\mathbb{R}^m$ una función de varias variables, $x_0$ un punto de su dominio, y $\\hat u$ un vector unitario de $\\mathbb{R}^n$. La *derivada direccional* de $f$ en $x_0$ en la dirección del vector $\\hat u$ es $$\\frac{\\partial f}{\\partial \\hat u}(x_0)=\\lim_{h\\to 0}\\frac{f(x_0+h\\hat u)-f(x_0)}{h}$$\n",
    "\n",
    "*Observación.* El vector en la definición debe ser unitario. Si no lo es, debe ser normalizado antes de aplicar la definición.\n",
    "\n",
    "*Ejemplo.* Determinar la derivada direccional de la función $f(x,y)=2x^2-xy+y$ en el punto $(0,0)$ en la dirección del vector $(1,-1)$.\n",
    "\n",
    "---\n",
    "\n",
    "**Propiedad.** Si se cambia el signo al vector dirección, entonces la derivada direccional cambia de signo. $$\\frac{\\partial f}{\\partial \\hat u}(x_0) = - \\frac{\\partial f}{\\partial (-\\hat u)}(x_0)$$\n",
    "\n",
    "---\n",
    "\n",
    "## Diferenciabilidad\n",
    "\n",
    "**Definición.** Una *función afín* entre espacios vectoriales es una suma entre una función lineal y una función constante.\n",
    "\n",
    "*Observación.* La ecuación de la recta en $\\mathbb{R}^2$, $y-y_0=m(x-x_0)$, es una función afín. Es caracterizada por dos valores -- su pendiente $m$, que describe la parte lineal, y el punto $(x_0,y_0)$, que describe la parte constante.\n",
    "De la misma forma, una función afín en espacios de dimensiones más altas puede ser descrita con dos valores: una matriz que describe la función lineal, y un punto en la gráfica que fija la constante.\n",
    "\n",
    "*Observación.* La gráfica de una función afín $A:\\mathbb{R}^n\\to\\mathbb{R}^m$ es la traslación de un subespacio $n$-dimensional de $\\mathbb{R}^{n+m}$.\n",
    "\n",
    "---\n",
    "\n",
    "La búsqueda de una *tangente* (recta, plano, o lo que corresponda según las dimensiones de la gráfica) se basa en la idea de una variable de que la recta tangente se puede utilizar para aproximar el valor de la función: $$x\\approx x_0 \\Rightarrow f(x)\\approx f'(x_0)(x-x_0)+f(x_0)$$\n",
    "*(esa última es la ecuación de la recta tangente)*\n",
    "\n",
    "---\n",
    "\n",
    "En este espíritu, diremos que una función afín $A$ es la *buena aproximación afín* a una función $f$ en un punto $\\vec{x}_0$ si $$\\vec{x}\\approx \\vec{x}_0\\Rightarrow f(\\vec{x})\\approx A(\\vec{x})$$\n",
    "\n",
    "---\n",
    "\n",
    "**Teorema.** La buena aproximación afín, **si es que existe**, es la función afín dada por la matriz jacobiana en el punto y que pasa por el punto.\n",
    "\n",
    "*Advertencia.* Es posible que la función afín recién descrita no sea una buena aproximación. En ese caso la función **no tiene** buena aproximación."
   ]
  }
 ],
 "metadata": {
  "kernelspec": {
   "display_name": "Python 3",
   "language": "python",
   "name": "python3"
  },
  "language_info": {
   "codemirror_mode": {
    "name": "ipython",
    "version": 3
   },
   "file_extension": ".py",
   "mimetype": "text/x-python",
   "name": "python",
   "nbconvert_exporter": "python",
   "pygments_lexer": "ipython3",
   "version": "3.8.2"
  }
 },
 "nbformat": 4,
 "nbformat_minor": 4
}
