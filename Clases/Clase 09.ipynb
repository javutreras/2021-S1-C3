{
 "cells": [
  {
   "cell_type": "markdown",
   "metadata": {},
   "source": [
    "## Teorema de la función implícita\n",
    "\n",
    "*Situación de ejemplo.* Se tienen cuatro variables $x,y,u,v$ relacionadas de la forma siguiente: $$\\begin{cases}y^2-x^2+u^3-v^2=4\\\\ 2xy-y^2+2u^2-3v^4=8\\end{cases}$$\n",
    "\n",
    "Se tiene además una situación inicial: $$\\begin{cases}x=2\\\\ y=1\\\\ u=2\\\\ v=1\\end{cases}$$\n",
    "\n",
    "Problema: si se alteran ciertas variables pero las relaciones originales se mantienen, ¿cómo resultan afectadas las demás variables?\n",
    "\n",
    "En particular:  describir qué pasaría con $u,v$ si se hace, por ejemplo,$$\\begin{cases}x=2.01\\\\ y=0.98\\end{cases}$$"
   ]
  }
 ],
 "metadata": {
  "kernelspec": {
   "display_name": "Python 3",
   "language": "python",
   "name": "python3"
  },
  "language_info": {
   "codemirror_mode": {
    "name": "ipython",
    "version": 3
   },
   "file_extension": ".py",
   "mimetype": "text/x-python",
   "name": "python",
   "nbconvert_exporter": "python",
   "pygments_lexer": "ipython3",
   "version": "3.8.2"
  }
 },
 "nbformat": 4,
 "nbformat_minor": 4
}
