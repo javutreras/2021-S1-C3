{
 "cells": [
  {
   "cell_type": "markdown",
   "metadata": {},
   "source": [
    "*Ejemplo.* Sea $R$ la región encerrada entre\n",
    "- el plano $z=0$,\n",
    "- el plano $z=x+y+5$,\n",
    "- el cilindro $x^2+y^2=4$,\n",
    "- el cilindro $x^2+y^2=1$.\n",
    "\n",
    "Encontrar $$\\iiint_R x\\,\\textrm{d}V$$\n",
    "\n",
    "---\n",
    "\n",
    "*Ejemplo.* Sea $R$ la región descrita de la forma siguiente:\n",
    "- sobre el plano $z=0$,\n",
    "- dentro de la esfera $x^2+y^2+z^2=20$,\n",
    "- bajo el cono $z=2\\sqrt{x^2+y^2}$.\n",
    "\n",
    "Encontrar el volumen de $R$.\n",
    "\n",
    "---\n",
    "\n",
    "*Ejemplo.* Determinar la distancia promedio de un punto de una esfera de radio $r$ a su centro.\n",
    "\n",
    "---\n",
    "\n",
    "*Ejemplo.* Determinar el volumen de la región encerrada entre los paraboloides de ecuaciones $z=x^2+y^2$, $z=36-3x^2-3y^2$."
   ]
  }
 ],
 "metadata": {
  "kernelspec": {
   "display_name": "Python 3",
   "language": "python",
   "name": "python3"
  },
  "language_info": {
   "codemirror_mode": {
    "name": "ipython",
    "version": 3
   },
   "file_extension": ".py",
   "mimetype": "text/x-python",
   "name": "python",
   "nbconvert_exporter": "python",
   "pygments_lexer": "ipython3",
   "version": "3.8.2"
  }
 },
 "nbformat": 4,
 "nbformat_minor": 4
}
