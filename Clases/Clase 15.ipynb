{
 "cells": [
  {
   "cell_type": "markdown",
   "metadata": {},
   "source": [
    "## Integrales triples\n",
    "\n",
    "*Notación.* La integral de una función $f$ sobre una región $R$ de $\\mathbb{R}^3$ se escribe $$\\iiint_R f\\,\\textrm{d}V$$\n",
    "\n",
    "*Observación.* Si $R$ es una región de $\\mathbb{R}^3$, entonces $\\iiint_R 1\\,\\textrm{d}V$ es igual al volumen de $R$.\n",
    "\n",
    "---\n",
    "\n",
    "**Propiedad.** Si $R=[a,b]\\times [c,d] \\times [m,n]$ (un paralelepípedo) y la integral de $f$ no es impropia en $R$, entonces\n",
    "$$\\iiint_R f\\,\\textrm{d}V = \\int_a^b \\int_c^d \\int_m^n f\\,\\textrm{d}z\\,\\textrm{d}y\\,\\textrm{d}x$$\n",
    "lo que también se puede escribir en cualquiera de los cinco otros órdenes posibles.\n",
    "\n",
    "*Ejemplo.* Calcular la integral de $f(x,y,z)=x^2+yz$ sobre la región $R=[0,1]\\times [0,2] \\times [1,3]$\n",
    "\n",
    "---\n",
    "\n",
    "En general, si una región en el espacio se puede describir de la forma $$\\begin{cases} a\\le x\\le b \\\\ g_1(x)\\le y\\le g_2(x) \\\\ h_1(x,y)\\le z\\le h_2(x,y)\\end{cases}$$\n",
    "entonces esto nos entrega un orden de integración para calcular la integral triple como tres integrales individuales. En la presentación anterior las variables podrían estar en otro orden, pero sus dependencias relativas no.\n",
    "\n",
    "---\n",
    "\n",
    "*Notación.* Una integral $\\iint_R$ sobre una región del plano se llama *integral doble*; una integral $\\iiint_R$ sobre una región del espacio *integral triple*. Integrales de una variable (para calcular las integrales anteriores) se denominan *integrales iteradas*, y el orden de las variables en que se realicen estas integrales iteradas se conoce como el *orden de integración*.\n",
    "\n",
    "---\n",
    "\n",
    "*Ejemplo.* Sea $R$ la región encerrada entre las gráficas del paraboloide $z=9-x^2-y^2$ y del plano $z=7+2x-2y$. Escribir $\\iiint_R f\\,\\textrm{d}V$ como integrales iteradas.\n",
    "\n",
    "*Respuesta.*\n",
    "$$\\iiint_R f\\,\\textrm{d}V =\\int_{-1}^3\\int_{-1-\\sqrt{4-(y-1)^2}}^{-1+\\sqrt{4-(y-1)^2}} \\int_{7+2x-2y}^{9-x^2-y^2} f\\,\\textrm{d}z\\,\\textrm{d}x\\,\\textrm{d}y$$\n",
    "\n",
    "---\n",
    "\n",
    "*Ejemplo.* Calcular las integrales iteradas $$\\int_0^1 \\int _0^{x^2} \\int_0^y 1\\,\\textrm{d}z\\,\\textrm{d}y\\,\\textrm{d}x$$\n",
    "Describir la región del espacio a la que se acaba de encontrar el volumen.\n"
   ]
  }
 ],
 "metadata": {
  "kernelspec": {
   "display_name": "Python 3",
   "language": "python",
   "name": "python3"
  },
  "language_info": {
   "codemirror_mode": {
    "name": "ipython",
    "version": 3
   },
   "file_extension": ".py",
   "mimetype": "text/x-python",
   "name": "python",
   "nbconvert_exporter": "python",
   "pygments_lexer": "ipython3",
   "version": "3.8.2"
  }
 },
 "nbformat": 4,
 "nbformat_minor": 4
}
