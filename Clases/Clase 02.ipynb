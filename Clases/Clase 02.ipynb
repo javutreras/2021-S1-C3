{
 "cells": [
  {
   "cell_type": "markdown",
   "metadata": {},
   "source": [
    "**Definición.** Sea $f:A\\subseteq\\mathbb{R}^m\\to\\mathbb{R}^n$ una función de múltiples variables. Sus *funciones componentes* $f_1,f_2,\\dots ,f_n$ son las funciones de dominio $A$ y codominio $\\mathbb{R}$ tales que $$f(x)=(f_1(x),f_2(x),\\dots ,f_n(x))$$\n",
    "para todo $x\\in A$.\n",
    "\n",
    "*Ejemplo.* Se tiene la función $g:\\mathbb{R}^2\\to\\mathbb{R}^3$ dada por $g(x,y)=(e^{xy},x^2+y,xy^3)$. Sus funciones componentes son\n",
    "- $g_1(x,y)=e^{xy}$\n",
    "- $g_2(x,y)=x^2+y$\n",
    "- $g_3(x,y)=xy^3$\n",
    "\n",
    "---\n",
    "\n",
    "**Definiciones.**\n",
    "- Una función de múltiples variables cuyo codominio es $\\mathbb{R}$ se llama un *campo escalar*.\n",
    "- Una función de múltiples variables de la forma $f:A\\subseteq\\mathbb{R}^n\\to\\mathbb{R}^n$ se llama *campo vectorial*.\n",
    "\n",
    "---\n",
    "\n",
    "**Definiciones.** Sea $f:A\\subseteq \\mathbb{R}^n\\to\\mathbb{R}^m$ una función.\n",
    "- La *gráfica* de $f$ es el conjunto $\\left\\{\\big(x,f(x)\\big)\\,:\\,x\\in A\\right\\}$ y es un subconjunto de $\\mathbb{R}^{n+m}$.\n",
    "- Si $c_0\\in\\mathbb{R}^m$, el *conjunto de nivel* $c_0$ es el conjunto $\\{x_0\\,:\\,f(x_0)=c_0\\}$ y es un subconjunto del dominio.\n",
    "\n",
    "*Ejemplo.* Se tiene la función $f:\\mathbb{R}^2\\to\\mathbb{R}$ dada por $f(x,y)=x^2+y^2$.\n",
    "- El conjunto de nivel $1$ está dado por $x^2+y^2=1$, la circunferencia en $\\mathbb{R}^2$ de centro $(0,0)$ y radio $1$.\n",
    "- El conjunto de nivel $0$ está dado por $x^2+y^2=0$, el origen en $\\mathbb{R}^2$.\n",
    "- El conjunto de nivel $-1$ está dado por $x^2+y^2=-1$, el conjunto vacío.\n",
    "- Combinando suficientes conjuntos de nivel, se ve la forma la gráfica de $f$: es una figura en $\\mathbb{R}^3$ llamada un *paraboloide*."
   ]
  }
 ],
 "metadata": {
  "kernelspec": {
   "display_name": "Python 3",
   "language": "python",
   "name": "python3"
  },
  "language_info": {
   "codemirror_mode": {
    "name": "ipython",
    "version": 3
   },
   "file_extension": ".py",
   "mimetype": "text/x-python",
   "name": "python",
   "nbconvert_exporter": "python",
   "pygments_lexer": "ipython3",
   "version": "3.8.2"
  }
 },
 "nbformat": 4,
 "nbformat_minor": 4
}
