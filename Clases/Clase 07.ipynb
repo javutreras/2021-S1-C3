{
 "cells": [
  {
   "cell_type": "markdown",
   "metadata": {},
   "source": [
    "**Definición.** Sean $f$ una función y $x_0$ un punto es su dominio. La *\"candidata a aproximación\"* es la función afín asociada a la matriz $J_f(x_0)$ y que pasa por el punto $(x_0,f(x_0))$.\n",
    "\n",
    "Llamemos $A$ a esta aproximación. La condición de pasar por el punto $(x_0, f(x_0))$ equivale a $A(x_0)=f(x_0)$.\n",
    "\n",
    "**Propiedad.** Para verificar si una \"candidata a aproximación\" verdaderamente aproxima a la función original se verifica el límite $$\\lim_{x\\to x_0}\\frac{\\|f(x)-A(x)\\|}{\\|x-x_0\\|}=0$$\n",
    "\n",
    "- Si el límite señalado no existe o no es cero, entonces la función es *no diferenciable* en el punto estudiado, y la \"candidata\" no es una buena aproximación.\n",
    "\n",
    "- Si el límite señalado es cero, la función es *diferenciable* en el punto, la función lineal asociada a $J_f(x_0)$ es su *diferencial* y la función afín $A$ es su *buena aproximación afín*.\n",
    "\n",
    "**Definición.** Si $f$ es diferenciable en $x_0$, la gráfica de su buena aproximación afín se llama el *espacio (afín) tangente* a $f$ en $x_0$.\n",
    "\n",
    "**Teorema.** Se tienen las siguientes propiedades.\n",
    "- Una función de clase $\\mathcal{C}^1$ es diferenciable.\n",
    "\t- Es decir, si sabemos que una función es de clase $\\mathcal{C}^1$ sabemos que la \"candidata\" automáticamente verifica el límite.\n",
    "- Una función diferenciable tiene derivadas direccionales en todas las direcciones.\n",
    "\n",
    "- Una función diferenciable es continua.\n",
    "\n",
    "---\n",
    "\n",
    "**Definición.** Sea $f:A\\subseteq\\mathbb{R}^n\\to\\mathbb{R}$ un campo escalar, y sea $x_0$ un punto en el dominio de $f$. El *vector gradiente* de $f$ en $x_0$ es el vector de $\\mathbb{R}^n$ cuyas componentes son las derivadas parciales de $f$ en $x_0$, en orden. Se denota $\\nabla f(x_0)$.\n",
    "\n",
    "*Ejemplo.* Si $f(x,y,z)=xy+x^2z-y$, su vector gradiente es $$\\nabla f(x,y,z)=(f_x,f_y,f_z)=(y+2xz,x-1,x^2)$$\n",
    "\n",
    "*Observación.* De la definición se observa que el vector gradiente es la traspuesta de la matriz jacobiana en el mismo punto."
   ]
  }
 ],
 "metadata": {
  "kernelspec": {
   "display_name": "Python 3",
   "language": "python",
   "name": "python3"
  },
  "language_info": {
   "codemirror_mode": {
    "name": "ipython",
    "version": 3
   },
   "file_extension": ".py",
   "mimetype": "text/x-python",
   "name": "python",
   "nbconvert_exporter": "python",
   "pygments_lexer": "ipython3",
   "version": "3.8.2"
  }
 },
 "nbformat": 4,
 "nbformat_minor": 4
}
