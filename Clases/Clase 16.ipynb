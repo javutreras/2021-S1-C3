{
 "cells": [
  {
   "cell_type": "markdown",
   "metadata": {},
   "source": [
    "## Cambio de variables\n",
    "\n",
    "*Problema.* Calcular $$\\int_1^3 \\cos (2x)\\,\\textrm{d}x$$\n",
    "\n",
    "---\n",
    "\n",
    "**Teorema (del cambio de variables).** Sean $R$, $R^*$ dos regiones en un mismo $\\mathbb{R}^n$. Sea $T:R^*\\to R$ sobreyectiva, de clase $\\mathcal{C}^1$, y biyectiva en el interior de $R^*$. Escribimos $T(\\vec u) = \\vec s$.\n",
    "\n",
    "Se tiene $$\\int_R f(\\vec s)\\,\\textrm{d}\\vec s = \\int_{R^*} f(T(\\vec u))\\cdot \\left|\\det(J_T(\\vec u)\\right|\\,\\textrm{d}\\vec u$$\n",
    "\n",
    "---\n",
    "\n",
    "*Ejemplo.* Sea $R$ el paralelógramo de vértices $(0,0)$, $(2,1)$, $(1,3)$, $(3,4)$. Calcular $$\\iint_R x\\,\\textrm{d}A$$\n",
    "\n",
    "*Ejemplo.* Calcular el área encerrada dentro de la elipse $$\\frac{x^2}{a^2}+\\frac{y^2}{b^2}=1$$ $(a,b >0)$"
   ]
  }
 ],
 "metadata": {
  "kernelspec": {
   "display_name": "Python 3",
   "language": "python",
   "name": "python3"
  },
  "language_info": {
   "codemirror_mode": {
    "name": "ipython",
    "version": 3
   },
   "file_extension": ".py",
   "mimetype": "text/x-python",
   "name": "python",
   "nbconvert_exporter": "python",
   "pygments_lexer": "ipython3",
   "version": "3.8.2"
  }
 },
 "nbformat": 4,
 "nbformat_minor": 4
}
