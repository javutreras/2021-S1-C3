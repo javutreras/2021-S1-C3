{
 "cells": [
  {
   "cell_type": "markdown",
   "metadata": {},
   "source": [
    "**Teorema (del acotamiento).** Sean $f$ una función y $x_0$ un punto de acumulación de su dominio. Si existen funciones $g,h$ tales que $$\\|g(x)\\|\\le\\|f(x)\\|\\le\\|h(x)\\|$$ en una vecindad de $x_0$ (pero no necesariamente en $x_0$ mismo) y además se tiene que $$\\lim_{x\\to x_0}g(x)=\\lim_{x\\to x_0}h(x)=0$$ entonces $$\\lim_{x\\to x_0}f(x)=0$$\n",
    "\n",
    "*Ejemplo.* Considerar $f(x,y)=\\frac{x^3}{x^2+y^2}$. En una vecindad del origen cualquiera se tiene:\n",
    "- $0\\le\\left|\\frac{x^3}{x^2+y^2}\\right|$ (propiedad del valor absoluto)\n",
    "- $\\left|\\frac{x^3}{x^2+y^2}\\right|\\le\\left|\\frac{x^3}{x^2}\\right|=|x|$ (disminución del denominador)\n",
    "\n",
    "Es decir, se tiene $$0\\le\\left|\\frac{x^3}{x^2+y^2}\\right|\\le |x|$$\n",
    "\n",
    "Como $\\displaystyle\\lim_{(x,y)\\to (0,0)}0=\\displaystyle\\lim_{(x,y)\\to (0,0)}x=0$, se concluye que $$\\displaystyle\\lim_{(x,y)\\to (0,0)}\\frac{x^3}{x^2+y^2}=0$$\n",
    "\n",
    "---\n",
    "\n",
    "*Algunas desigualdades estándar.*\n",
    "- Las siguientes desigualdades se verifican para todos los valores reales posibles de sus variables.\n",
    "\n",
    "\t- $|x|\\le\\|(x,y)\\|$, similarmente $|y|\\le\\|(x,y)\\|$\n",
    "\n",
    "\t- $|x\\pm y|\\le |x| + |y|$ *(desigualdad triangular)*\n",
    "    \n",
    "\t- $|\\sin x| \\le 1$, similarmente $|\\cos x |\\le 1$\n",
    "    \n",
    "\t- $|\\sin  x|\\le |x|$\n",
    "\n",
    "- Las siguientes desigualdades se verifican para valores no negativos de sus variables.\n",
    "\n",
    "\t- $\\frac{1}{A+B}\\le \\frac{1}{A}$, similarmente $\\frac{1}{A+B}\\le \\frac{1}{B}$\n",
    "\n",
    "\t- $\\sqrt{AB}\\le \\frac{A+B}{2}$ *(desigualdad aritmética-geométrica)*\n",
    "\t\t- En el caso de tres sumandos, queda $\\sqrt[3]{ABC}\\le\\frac{A+B+C}{3}$"
   ]
  }
 ],
 "metadata": {
  "kernelspec": {
   "display_name": "Python 3",
   "language": "python",
   "name": "python3"
  },
  "language_info": {
   "codemirror_mode": {
    "name": "ipython",
    "version": 3
   },
   "file_extension": ".py",
   "mimetype": "text/x-python",
   "name": "python",
   "nbconvert_exporter": "python",
   "pygments_lexer": "ipython3",
   "version": "3.8.2"
  }
 },
 "nbformat": 4,
 "nbformat_minor": 4
}
